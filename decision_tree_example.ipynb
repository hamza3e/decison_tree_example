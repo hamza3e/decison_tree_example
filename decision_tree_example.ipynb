{
  "nbformat": 4,
  "nbformat_minor": 0,
  "metadata": {
    "colab": {
      "name": "decision_tree_example.ipynb",
      "version": "0.3.2",
      "provenance": [],
      "include_colab_link": true
    },
    "kernelspec": {
      "name": "python3",
      "display_name": "Python 3"
    }
  },
  "cells": [
    {
      "cell_type": "markdown",
      "metadata": {
        "id": "view-in-github",
        "colab_type": "text"
      },
      "source": [
        "<a href=\"https://colab.research.google.com/github/hamza3e/decison_tree_example/blob/master/decision_tree_example.ipynb\" target=\"_parent\"><img src=\"https://colab.research.google.com/assets/colab-badge.svg\" alt=\"Open In Colab\"/></a>"
      ]
    },
    {
      "metadata": {
        "id": "k6MJOrlGra_o",
        "colab_type": "code",
        "colab": {}
      },
      "cell_type": "code",
      "source": [
        "import numpy as np\n",
        "import pandas as pd\n",
        "from sklearn.model_selection import train_test_split\n",
        "from sklearn.tree import DecisionTreeClassifier\n",
        "from sklearn.metrics import accuracy_score\n",
        "from sklearn import tree\n"
      ],
      "execution_count": 0,
      "outputs": []
    },
    {
      "metadata": {
        "id": "Fx81sMMzFmsD",
        "colab_type": "code",
        "colab": {}
      },
      "cell_type": "code",
      "source": [
        "!wget #the link should come here"
      ],
      "execution_count": 0,
      "outputs": []
    },
    {
      "metadata": {
        "id": "15Kthi2UFs1o",
        "colab_type": "code",
        "colab": {}
      },
      "cell_type": "code",
      "source": [
        "data = pd.read_csv('link',sep= ',', header= 0)\n",
        "\n",
        "data.shape()\n",
        "data.head()"
      ],
      "execution_count": 0,
      "outputs": []
    },
    {
      "metadata": {
        "id": "qJJCYFw0Ge5W",
        "colab_type": "code",
        "colab": {}
      },
      "cell_type": "code",
      "source": [
        "X = data[:,0:4]\n",
        "Y = data[:,5]\n",
        "\n",
        "X_train, X_test, Y_train, Y_test = train_test_split( X, Y, test_size= 0.3, random_state= 100 )\n",
        "decTree = DecisionTreeClassifier( criterion= \"entropy\", random_state= 100, max_depth= 3, min_samples_leaf= 5)\n",
        "\n",
        "decTree.fit(X_train,Y_train)\n",
        "Y_pred= decTree.predict(X_test)\n",
        "\n",
        "acc = accuracy_score(Y_test,Y_pred)"
      ],
      "execution_count": 0,
      "outputs": []
    }
  ]
}